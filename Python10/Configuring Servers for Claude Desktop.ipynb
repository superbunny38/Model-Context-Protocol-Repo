{
 "cells": [
  {
   "cell_type": "code",
   "execution_count": null,
   "metadata": {
    "vscode": {
     "languageId": "plaintext"
    }
   },
   "outputs": [],
   "source": []
  },
  {
   "cell_type": "markdown",
   "metadata": {},
   "source": [
    "'''\n",
    "{\n",
    "  \"mcpServers\": {\n",
    "    \"filesystem\":{\n",
    "            \"command\": \"npx\",\n",
    "            \"args\": [\n",
    "                \"-y\",\n",
    "                \"@modelcontextprotocol/server-filesystem\",\n",
    "                \"/Users/chaeeunryu/Desktop/MCP Study/MCP-Python/Python10/\"\n",
    "            ]\n",
    "    },\n",
    "    \"research\":{\n",
    "        \"command\": \"uv\",\n",
    "        \"args\": [\"run\",\"research_server.py\"]\n",
    "    },\n",
    "    \"fetch\":{\n",
    "        \"command\":\"uvx\",\n",
    "        \"args\": [\"mcp-server-fetch\"]\n",
    "    }\n",
    "  }\n",
    "}\n",
    "'''"
   ]
  },
  {
   "cell_type": "markdown",
   "metadata": {},
   "source": []
  }
 ],
 "metadata": {
  "language_info": {
   "name": "python"
  }
 },
 "nbformat": 4,
 "nbformat_minor": 2
}
