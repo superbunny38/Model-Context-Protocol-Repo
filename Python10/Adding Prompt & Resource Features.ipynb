{
 "cells": [
  {
   "cell_type": "markdown",
   "metadata": {},
   "source": [
    "# Adding Prompt & Resource Features"
   ]
  },
  {
   "cell_type": "markdown",
   "metadata": {},
   "source": [
    "Resources are read-only data that an MCP server can expose to the LLM application. Resources are similar to GET endpoints in a REST API - they provide data but shouldn't perform significant computation or have side effects. For example, the resource can be a list of folders within a directory or the content of a file within a folder. Here, the MCP server provides two resources:\n",
    "\n",
    "- list of available topic folders under the papers directory;\n",
    "- the papers' information stored under a topic folder.\n"
   ]
  },
  {
   "cell_type": "markdown",
   "metadata": {},
   "source": [
    "Here's a code snippet that shows how resources are defined in the MCP server again using FastMCP (with the use of the decorator @mcp.resource(uri)). You can find the complete code in the mcp_project folder. The URI defined inside @mcp.resource() is used to uniquely identify the resource and, as a server developer, you can customize the URI. But in general, it follows this scheme: sth://xyz/xcv . In this example, two types of URI were used:\n",
    "\n",
    "- static URI: papers://folders (which represents the list of available topics)\n",
    "- dynamic URI: papers://{topic} (which represents the papers' information under the topic specified by the client during runtime)"
   ]
  },
  {
   "cell_type": "markdown",
   "metadata": {},
   "source": [
    "Activate env:\n",
    "\n",
    "source .venv/bin/activate"
   ]
  },
  {
   "cell_type": "markdown",
   "metadata": {},
   "source": [
    "Run chatbot:\n",
    "\n",
    "uv run mcp_chatbot.py"
   ]
  },
  {
   "cell_type": "code",
   "execution_count": null,
   "metadata": {
    "vscode": {
     "languageId": "plaintext"
    }
   },
   "outputs": [],
   "source": []
  },
  {
   "cell_type": "code",
   "execution_count": null,
   "metadata": {
    "vscode": {
     "languageId": "plaintext"
    }
   },
   "outputs": [],
   "source": []
  }
 ],
 "metadata": {
  "language_info": {
   "name": "python"
  }
 },
 "nbformat": 4,
 "nbformat_minor": 2
}
