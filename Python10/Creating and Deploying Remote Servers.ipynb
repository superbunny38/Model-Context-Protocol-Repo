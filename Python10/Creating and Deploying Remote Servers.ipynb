{
 "cells": [
  {
   "cell_type": "markdown",
   "metadata": {
    "vscode": {
     "languageId": "plaintext"
    }
   },
   "source": [
    "# Creating and Deploying Remote Servers"
   ]
  },
  {
   "cell_type": "markdown",
   "metadata": {},
   "source": [
    "In the previous lessons, you worked with servers running locally using stdio transport. In this lesson, you will learn how to create a remote server using FastMCP, test it using MCP inspector and then learn how to deploy it on render.com.\n",
    "\n",
    "You will focus on the sse transport. When the course was filmed, the python sdk for Streamable HTTP was in active development. However, this lesson will still give you insights into what a remote server is. We included notes for how the server implementation would be different with Streamable HTTP (slight changes since FastMCP provides you with a high-level interface)."
   ]
  },
  {
   "cell_type": "markdown",
   "metadata": {},
   "source": [
    "Streamable HTTP: You can also use FastMCP to create a remote server using the transport \"Streamable HTTP\". The code would be again the same for tool, resource and prompt definitions. But when you run the server, you specify the transport as:\n",
    "\n",
    "'''\n",
    "mcp.run(transport=\"streamable-http\")\n",
    "'''\n",
    "\n",
    "And when you initiate the FastMCP server you have two options:\n",
    "\n",
    "'''\n",
    "\n",
    "- Stateful server (maintains session state)\n",
    "    \n",
    "    mcp = FastMCP(\"research\")\n",
    "\n",
    "\n",
    "\n",
    "- Stateless server (no session persistence)\n",
    "    \n",
    "    mcp = FastMCP(\"research\", stateless_http=True)\n",
    "\n",
    "'''\n",
    "\n",
    "Stateless can be used when you want the server to handle simple, independent requests (no memory of previous interactions with the same client). Stateful can be used when you want the server to handle multiple requests that are part of a workflow and you want the server to remember the Client information and context across multiple requests."
   ]
  },
  {
   "cell_type": "markdown",
   "metadata": {},
   "source": []
  },
  {
   "cell_type": "code",
   "execution_count": null,
   "metadata": {
    "vscode": {
     "languageId": "plaintext"
    }
   },
   "outputs": [],
   "source": []
  }
 ],
 "metadata": {
  "language_info": {
   "name": "python"
  }
 },
 "nbformat": 4,
 "nbformat_minor": 2
}
