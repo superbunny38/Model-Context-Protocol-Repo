{
 "cells": [
  {
   "cell_type": "markdown",
   "metadata": {
    "vscode": {
     "languageId": "plaintext"
    }
   },
   "source": [
    "# Creating and Deploying Remote Servers"
   ]
  },
  {
   "cell_type": "markdown",
   "metadata": {},
   "source": [
    "In the previous lessons, you worked with servers running locally using stdio transport. In this lesson, you will learn how to create a remote server using FastMCP, test it using MCP inspector and then learn how to deploy it on render.com.\n",
    "\n",
    "You will focus on the sse transport. When the course was filmed, the python sdk for Streamable HTTP was in active development. However, this lesson will still give you insights into what a remote server is. We included notes for how the server implementation would be different with Streamable HTTP (slight changes since FastMCP provides you with a high-level interface)."
   ]
  },
  {
   "cell_type": "markdown",
   "metadata": {},
   "source": [
    "Streamable HTTP: You can also use FastMCP to create a remote server using the transport \"Streamable HTTP\". The code would be again the same for tool, resource and prompt definitions. But when you run the server, you specify the transport as:\n",
    "\n",
    "'''\n",
    "mcp.run(transport=\"streamable-http\")\n",
    "'''\n",
    "\n",
    "And when you initiate the FastMCP server you have two options:\n",
    "\n",
    "'''\n",
    "\n",
    "- Stateful server (maintains session state)\n",
    "    \n",
    "    mcp = FastMCP(\"research\")\n",
    "\n",
    "\n",
    "\n",
    "- Stateless server (no session persistence)\n",
    "    \n",
    "    mcp = FastMCP(\"research\", stateless_http=True)\n",
    "\n",
    "'''\n",
    "\n",
    "Stateless can be used when you want the server to handle simple, independent requests (no memory of previous interactions with the same client). Stateful can be used when you want the server to handle multiple requests that are part of a workflow and you want the server to remember the Client information and context across multiple requests."
   ]
  },
  {
   "cell_type": "markdown",
   "metadata": {},
   "source": [
    "### Run inspector\n",
    "\n",
    "npx @modelcontexgtprotocol/inspector"
   ]
  },
  {
   "cell_type": "markdown",
   "metadata": {},
   "source": [
    "# SSE Remote server\n",
    "\n",
    "After you create the python file for your remote server, you can test it using the MCP inspector or the simple chatbot of lesson 5, you can also integrate it with the chatbot of lesson 7. In order to test it, you first need to launch it to get its URL and then provide the URL to the chatbot or MCP inspector.\n",
    "\n",
    "Note: A server using the stdio transport is launched as a subprocess by the MCP client. On the other hand, a remote server is an independent processes running separately from the client and needs to be already running before the MCP client connects to it."
   ]
  },
  {
   "cell_type": "markdown",
   "metadata": {},
   "source": [
    "How to run and test it on your local machine? - Optional Reading\n",
    "You would need first to create and prepare a separate environment for the remote server. You can follow the same steps you learned about in the previous lessons:\n",
    "\n",
    "initiate the folder using uv init,\n",
    "create a virtual environment and activate it,\n",
    "add the required dependencies (uv add arxiv mcp).\n",
    "You can then open a terminal and run your server using (uv run research_server.py), you'd need to keep the terminal open for the server to keep on running. You'll get a message in the terminal that the server is running at a given address. The URL that you would need to provide to the inspector or chatbot is that address with the appended /sse at the end. In a second terminal, you can launch the MCP inspector or your chatbot. Please check the comments below on how you can update the MCP chatbot.\n",
    "\n",
    "Streamable HTPP: same process for everything. For the URL, you would need to append /mcp/ instead of /sse."
   ]
  },
  {
   "cell_type": "code",
   "execution_count": null,
   "metadata": {
    "vscode": {
     "languageId": "plaintext"
    }
   },
   "outputs": [],
   "source": []
  }
 ],
 "metadata": {
  "language_info": {
   "name": "python"
  }
 },
 "nbformat": 4,
 "nbformat_minor": 2
}
