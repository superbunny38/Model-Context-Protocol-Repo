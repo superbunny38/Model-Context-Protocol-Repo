{
 "cells": [
  {
   "cell_type": "markdown",
   "metadata": {},
   "source": [
    "# Creating a MCP Server (w Stdio)"
   ]
  },
  {
   "cell_type": "markdown",
   "metadata": {},
   "source": [
    "- uv init\n",
    "- uv venv\n",
    "- source .venv/bin/activate\n",
    "- uv add mcp arxiv\n",
    "- npx @modelcontextprotocol/inspector"
   ]
  },
  {
   "cell_type": "code",
   "execution_count": 2,
   "metadata": {},
   "outputs": [],
   "source": [
    "# # start a new terminal\n",
    "# import os\n",
    "# from IPython.display import IFrame\n",
    "\n",
    "# IFrame(f\"{os.environ.get('DLAI_LOCAL_URL').format(port=6277)}terminals/1\", \n",
    "#        width=600, height=768)"
   ]
  },
  {
   "cell_type": "code",
   "execution_count": null,
   "metadata": {},
   "outputs": [],
   "source": []
  }
 ],
 "metadata": {
  "kernelspec": {
   "display_name": ".venv",
   "language": "python",
   "name": "python3"
  },
  "language_info": {
   "codemirror_mode": {
    "name": "ipython",
    "version": 3
   },
   "file_extension": ".py",
   "mimetype": "text/x-python",
   "name": "python",
   "nbconvert_exporter": "python",
   "pygments_lexer": "ipython3",
   "version": "3.12.6"
  }
 },
 "nbformat": 4,
 "nbformat_minor": 2
}
